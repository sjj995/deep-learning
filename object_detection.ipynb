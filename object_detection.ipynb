{
  "nbformat": 4,
  "nbformat_minor": 0,
  "metadata": {
    "colab": {
      "name": "object_detection.ipynb",
      "private_outputs": true,
      "provenance": [],
      "collapsed_sections": [],
      "machine_shape": "hm"
    },
    "kernelspec": {
      "name": "python3",
      "display_name": "Python 3"
    },
    "language_info": {
      "name": "python"
    },
    "accelerator": "GPU"
  },
  "cells": [
    {
      "cell_type": "code",
      "metadata": {
        "id": "ZA9eJyp3WuJO"
      },
      "source": [
        "from google.colab import drive\n",
        "drive.mount('/content/drive')"
      ],
      "execution_count": null,
      "outputs": []
    },
    {
      "cell_type": "code",
      "metadata": {
        "id": "YI58ZelhX6wv"
      },
      "source": [
        "import shutil\n",
        "shutil.rmtree('/content/drive/MyDrive/yolo_custom_model_Training3')"
      ],
      "execution_count": null,
      "outputs": []
    },
    {
      "cell_type": "code",
      "metadata": {
        "id": "cs0OYyDTYdN2"
      },
      "source": [
        "!nvidia-smi -L\n"
      ],
      "execution_count": null,
      "outputs": []
    },
    {
      "cell_type": "code",
      "metadata": {
        "id": "iVUGkyH8Yfg6"
      },
      "source": [
        "%cd /content/drive/MyDrive\n",
        "!mkdir yolo_custom_model_Training3"
      ],
      "execution_count": null,
      "outputs": []
    },
    {
      "cell_type": "code",
      "metadata": {
        "id": "4Ayg2mm3YlgK"
      },
      "source": [
        "!ls '/content/drive/MyDrive/yolo_custom_model_Training3'\n"
      ],
      "execution_count": null,
      "outputs": []
    },
    {
      "cell_type": "code",
      "metadata": {
        "id": "-0m62UlLY5OP"
      },
      "source": [
        "%cd /content/drive/MyDrive/yolo_custom_model_Training3\n",
        "!mkdir custom_data"
      ],
      "execution_count": null,
      "outputs": []
    },
    {
      "cell_type": "code",
      "metadata": {
        "id": "sOKyHbYaY7Eg"
      },
      "source": [
        "!ls '/content/drive/MyDrive/yolo_custom_model_Training3'\n"
      ],
      "execution_count": null,
      "outputs": []
    },
    {
      "cell_type": "code",
      "metadata": {
        "id": "z7hIQviuZAjM"
      },
      "source": [
        "!unzip '/content/drive/MyDrive/yolo_custom_model_Training3/kickboard.zip' -d '/content/drive/MyDrive/yolo_custom_model_Training3/custom_data'\n"
      ],
      "execution_count": null,
      "outputs": []
    },
    {
      "cell_type": "code",
      "metadata": {
        "id": "J27tTXB-ZIQT"
      },
      "source": [
        "%pwd\n"
      ],
      "execution_count": null,
      "outputs": []
    },
    {
      "cell_type": "code",
      "metadata": {
        "id": "jFUdPXuZZKG9"
      },
      "source": [
        "# download dataset in current directory(above path)\n",
        "!git clone 'https://github.com/AlexeyAB/darknet.git' '/content/drive/MyDrive/yolo_custom_model_Training3/darknet'"
      ],
      "execution_count": null,
      "outputs": []
    },
    {
      "cell_type": "code",
      "metadata": {
        "id": "g3OytHt-ZWwl"
      },
      "source": [
        "# move current directory to darknet\n",
        "%cd /content/drive/MyDrive/yolo_custom_model_Training3/darknet"
      ],
      "execution_count": null,
      "outputs": []
    },
    {
      "cell_type": "code",
      "metadata": {
        "id": "GSAZqe3lZZHx"
      },
      "source": [
        "# change setting values in 'Makefile' file \n",
        "!sed -i 's/OPENCV=0/OPENCV=1/' Makefile\n",
        "!sed -i 's/GPU=0/GPU=1/' Makefile\n",
        "!sed -i 's/CUDNN=0/CUDNN=1/' Makefile\n",
        "!sed -i 's/CUDNN_HALF=0/CUDNN_HALF=1/' Makefile\n",
        "!sed -i 's/LIBSO=0/LIBSO=1/' Makefile"
      ],
      "execution_count": null,
      "outputs": []
    },
    {
      "cell_type": "code",
      "metadata": {
        "id": "a4NdFRdsZbbF"
      },
      "source": [
        "# Compile model\n",
        "\"\"\"  take care do not disconnect : file directory may be interupted \n",
        "if your network down during compile, I recommend delete darknet folder and restart number 4(get AlexeyAB/darknet)\"\"\"\n",
        "\n",
        "!make"
      ],
      "execution_count": null,
      "outputs": []
    },
    {
      "cell_type": "code",
      "metadata": {
        "id": "N8hpRHNdZ40g"
      },
      "source": [
        "%cd ..\n",
        "!darknet/darknet"
      ],
      "execution_count": null,
      "outputs": []
    },
    {
      "cell_type": "code",
      "metadata": {
        "id": "jzpA6Gq1Z6vM"
      },
      "source": [
        "!git clone 'https://github.com/jakkcoder/training_yolo_custom_object_detection_files' '/content/drive/MyDrive/yolo_custom_model_Training3/training_yolo_custom_object_detection_files-main'"
      ],
      "execution_count": null,
      "outputs": []
    },
    {
      "cell_type": "code",
      "metadata": {
        "id": "bFeJNJYCaIHx"
      },
      "source": [
        "%cd /content/drive/MyDrive/yolo_custom_model_Training3/training_yolo_custom_object_detection_files-main"
      ],
      "execution_count": null,
      "outputs": []
    },
    {
      "cell_type": "code",
      "metadata": {
        "id": "ntQLbKV9aLVq"
      },
      "source": [
        "# check out current dir files\n",
        "!ls"
      ],
      "execution_count": null,
      "outputs": []
    },
    {
      "cell_type": "code",
      "metadata": {
        "id": "U5XZv4VtaUrz"
      },
      "source": [
        "# copy creating-train-and-test-txt-files.py & creating-files-data-and-name.py\n",
        "\"\"\"creating-train-and-test-txt-files.py >> create 'train.txt' & 'test.txt' files\n",
        "   creating-files-data-and-name.py >> create label 'labelled_data.data' file\n",
        "   <if you excute both .py files, you get mentioned files upper lines 2,3>\"\"\"\n",
        "\n",
        "!cp creating-train-and-test-txt-files.py /content/drive/MyDrive/yolo_custom_model_Training3//custom_data\n",
        "!cp creating-files-data-and-name.py /content/drive/MyDrive/yolo_custom_model_Training3/custom_data"
      ],
      "execution_count": null,
      "outputs": []
    },
    {
      "cell_type": "code",
      "metadata": {
        "id": "kwHD_iJlaVrX"
      },
      "source": [
        "%cd /content/drive/MyDrive/yolo_custom_model_Training3/custom_data"
      ],
      "execution_count": null,
      "outputs": []
    },
    {
      "cell_type": "code",
      "metadata": {
        "id": "XsZE-XyQaYf6"
      },
      "source": [
        "# change paths in both .py files\n",
        "!sed -i '39 s@/home/my_name/Downloads/video-to-annotate@custom_data@' creating-train-and-test-txt-files.py\n",
        "!sed -i '74 s@jpeg@jpg@' creating-train-and-test-txt-files.py\n",
        "!sed -i '36 s@/home/my_name/Downloads/video-to-annotate@custom_data@' creating-files-data-and-name.py"
      ],
      "execution_count": null,
      "outputs": []
    },
    {
      "cell_type": "code",
      "metadata": {
        "id": "ZQ_e0Nvgack6"
      },
      "source": [
        "# move current dir one step before\n",
        "%cd .."
      ],
      "execution_count": null,
      "outputs": []
    },
    {
      "cell_type": "code",
      "metadata": {
        "id": "cSSlZv8AaeR7"
      },
      "source": [
        "# excute .py file >> 'train.txt', 'test.txt'   \n",
        "!python custom_data/creating-train-and-test-txt-files.py"
      ],
      "execution_count": null,
      "outputs": []
    },
    {
      "cell_type": "code",
      "metadata": {
        "id": "4b19Nb_OagCH"
      },
      "source": [
        "# excute .py file >> 'labelled_data.data'\n",
        "!python custom_data/creating-files-data-and-name.py"
      ],
      "execution_count": null,
      "outputs": []
    },
    {
      "cell_type": "code",
      "metadata": {
        "id": "GhEDUDPDbmKL"
      },
      "source": [
        "# create directory 'custom_weight'\n",
        "!mkdir custom_weight"
      ],
      "execution_count": null,
      "outputs": []
    },
    {
      "cell_type": "code",
      "metadata": {
        "id": "qjJcK72ubn3B"
      },
      "source": [
        "%pwd\n"
      ],
      "execution_count": null,
      "outputs": []
    },
    {
      "cell_type": "code",
      "metadata": {
        "id": "65PS6PDqbqhr"
      },
      "source": [
        "%ls -l"
      ],
      "execution_count": null,
      "outputs": []
    },
    {
      "cell_type": "code",
      "metadata": {
        "id": "ymfokkg7bz8W"
      },
      "source": [
        "# move 'yolov4.conv.137' file to 'custom_weight' dir\n",
        "!mv yolov4.conv.137 custom_weight/"
      ],
      "execution_count": null,
      "outputs": []
    },
    {
      "cell_type": "code",
      "metadata": {
        "id": "wiAq2ryVb63S"
      },
      "source": [
        "%cd /content/drive/MyDrive/yolo_custom_model_Training3/darknet/cfg\n"
      ],
      "execution_count": null,
      "outputs": []
    },
    {
      "cell_type": "code",
      "metadata": {
        "id": "iQrkc71rb8gq"
      },
      "source": [
        "# copy yolov4.cfg file & rename & paste\n",
        "!cp yolov4.cfg yolov4_custom.cfg"
      ],
      "execution_count": null,
      "outputs": []
    },
    {
      "cell_type": "code",
      "metadata": {
        "id": "_YPLrZCEb-Fb"
      },
      "source": [
        "# change values for training\n",
        "!sed -i '2 s@batch=64@batch=8@' yolov4_custom.cfg\n",
        "\n",
        "!sed -i '7 s@width=608@width=416@' yolov4_custom.cfg\n",
        "!sed -i '8 s@height=608@height=416@' yolov4_custom.cfg  \n",
        "\n",
        "!sed -i '19 s@500500@2000@' yolov4_custom.cfg  #maxbatch=class*2000\n",
        "!sed -i '21 s@400000,450000@1600,1800@' yolov4_custom.cfg  #maxbatch*0.8, maxbatch*0.9\n",
        "\n",
        "!sed -i '968 s@classes=80@classes=1@' yolov4_custom.cfg\n",
        "!sed -i '1056 s@classes=80@classes=1@' yolov4_custom.cfg\n",
        "!sed -i '1144 s@classes=80@classes=1@' yolov4_custom.cfg\n",
        "\n",
        "!sed -i '961 s@filters=255@filters=18@' yolov4_custom.cfg  #filters=(4+1+classes)*3 \n",
        "!sed -i '1049 s@filters=255@filters=18@' yolov4_custom.cfg\n",
        "!sed -i '1137 s@filters=255@filters=18@' yolov4_custom.cfg"
      ],
      "execution_count": null,
      "outputs": []
    },
    {
      "cell_type": "code",
      "metadata": {
        "id": "dxUJdJkoeUkk"
      },
      "source": [
        "%cd /content/drive/MyDrive/yolo_custom_model_Training3\n"
      ],
      "execution_count": null,
      "outputs": []
    },
    {
      "cell_type": "code",
      "metadata": {
        "id": "9PTQwBtUeaqV"
      },
      "source": [
        "!mkdir backup\n"
      ],
      "execution_count": null,
      "outputs": []
    },
    {
      "cell_type": "code",
      "metadata": {
        "id": "HdyBdZZdecTi"
      },
      "source": [
        "%cd /content/drive/MyDrive/yolo_custom_model_Training3\n"
      ],
      "execution_count": null,
      "outputs": []
    },
    {
      "cell_type": "code",
      "metadata": {
        "id": "b_xMWud8eeTf"
      },
      "source": [
        "!darknet/darknet detector train custom_data/labelled_data.data darknet/cfg/yolov4_custom.cfg custom_weight/yolov4.conv.137 -dont_show\n"
      ],
      "execution_count": null,
      "outputs": []
    },
    {
      "cell_type": "code",
      "metadata": {
        "id": "ghkc8_LVPRE1"
      },
      "source": [
        "# define helper function imShow\n",
        "def imShow(path):\n",
        "  import cv2\n",
        "  import matplotlib.pyplot as plt\n",
        "  %matplotlib inline\n",
        "\n",
        "  image = cv2.imread(path)\n",
        "  height, width = image.shape[:2]\n",
        "  resized_image = cv2.resize(image,(3*width, 3*height), interpolation = cv2.INTER_CUBIC)\n",
        "\n",
        "  fig = plt.gcf()\n",
        "  fig.set_size_inches(18, 10)\n",
        "  plt.axis(\"off\")\n",
        "  plt.imshow(cv2.cvtColor(resized_image, cv2.COLOR_BGR2RGB))\n",
        "  #plt.show('')"
      ],
      "execution_count": null,
      "outputs": []
    },
    {
      "cell_type": "code",
      "metadata": {
        "id": "e7I0WBQhPZ6w"
      },
      "source": [
        "%cd /content/drive/MyDrive/yolo_custom_model_Training3\n",
        "!ls\n"
      ],
      "execution_count": null,
      "outputs": []
    },
    {
      "cell_type": "code",
      "metadata": {
        "id": "kd93PZQbPcJJ"
      },
      "source": [
        "# only works if the training does not get interrupted \n",
        "imShow('chart.png')"
      ],
      "execution_count": null,
      "outputs": []
    },
    {
      "cell_type": "code",
      "metadata": {
        "id": "Ox-YBGmsQQBL"
      },
      "source": [
        "%cd custom_data\n",
        "\n",
        "!sed -i 's@custom_data@/content/drive/MyDrive/yolo_custom_model_Training3/custom_data@' test.txt\n",
        "!sed -i 's@custom_data@/content/drive/MyDrive/yolo_custom_model_Training3/custom_data@' train.txt\n",
        "\n",
        "!sed -i 's@custom_data@/content/drive/MyDrive/yolo_custom_model_Training3/custom_data@' labelled_data.data\n",
        "!sed -i '5 s@.*@backup = /content/drive/MyDrive/yolo_custom_model_Training3/backup/@' labelled_data.data\n",
        "\n",
        "!cat labelled_data.data"
      ],
      "execution_count": null,
      "outputs": []
    },
    {
      "cell_type": "code",
      "metadata": {
        "id": "9z4sq65CQVbx"
      },
      "source": [
        "%cd /content/drive/My Drive/yolo_custom_model_Training3/darknet\n",
        "!chmod +x ./darknet"
      ],
      "execution_count": null,
      "outputs": []
    },
    {
      "cell_type": "code",
      "metadata": {
        "id": "tcz02dyYQXdN"
      },
      "source": [
        "#You can check the mAP for all the saved weights to see which gives the best results\n",
        "\n",
        "!./darknet detector map /content/drive/MyDrive/yolo_custom_model_Training3/custom_data/labelled_data.data /content/drive/MyDrive/yolo_custom_model_Training3/darknet/cfg/yolov4_custom.cfg /content/drive/MyDrive/yolo_custom_model_Training3/backup/yolov4_custom_final.weights -points 0"
      ],
      "execution_count": null,
      "outputs": []
    },
    {
      "cell_type": "code",
      "metadata": {
        "id": "LCOUEZf2Qgv6"
      },
      "source": [
        "# run your custom detector with this command (upload an image to your google drive to test, the thresh flag sets the minimum accuracy required for object detection)\n",
        "\n",
        "!./darknet detector test /content/drive/MyDrive/yolo_custom_model_Training3/custom_data/labelled_data.data /content/drive/MyDrive/yolo_custom_model_Training3/darknet/cfg/yolov4_custom.cfg /content/drive/MyDrive/yolo_custom_model_Training3/backup/yolov4_custom_final.weights /content/drive/MyDrive/yolo_custom_model_Training3/testing/kick1.jpg -thresh 0.3\n",
        "imShow('predictions.jpg')"
      ],
      "execution_count": null,
      "outputs": []
    },
    {
      "cell_type": "code",
      "metadata": {
        "id": "sb7seWabRdKK"
      },
      "source": [
        "# run your custom detector with this command (upload an image to your google drive to test, the thresh flag sets the minimum accuracy required for object detection)\n",
        "\n",
        "!./darknet detector test /content/drive/MyDrive/yolo_custom_model_Training3/custom_data/labelled_data.data /content/drive/MyDrive/yolo_custom_model_Training3/darknet/cfg/yolov4_custom.cfg /content/drive/MyDrive/yolo_custom_model_Training3/backup/yolov4_custom_final.weights /content/drive/MyDrive/yolo_custom_model_Training3/testing/kick2.png -thresh 0.3\n",
        "imShow('predictions.jpg')"
      ],
      "execution_count": null,
      "outputs": []
    },
    {
      "cell_type": "code",
      "metadata": {
        "id": "n_GhspN8RmrM"
      },
      "source": [
        "# run your custom detector with this command (upload an image to your google drive to test, the thresh flag sets the minimum accuracy required for object detection)\n",
        "\n",
        "!./darknet detector test /content/drive/MyDrive/yolo_custom_model_Training3/custom_data/labelled_data.data /content/drive/MyDrive/yolo_custom_model_Training3/darknet/cfg/yolov4_custom.cfg /content/drive/MyDrive/yolo_custom_model_Training3/backup/yolov4_custom_final.weights /content/drive/MyDrive/yolo_custom_model_Training3/testing/kick3.jpg -thresh 0.3\n",
        "imShow('predictions.jpg')"
      ],
      "execution_count": null,
      "outputs": []
    },
    {
      "cell_type": "code",
      "metadata": {
        "id": "ywwvCDJQRwDe"
      },
      "source": [
        "# run your custom detector with this command (upload an image to your google drive to test, the thresh flag sets the minimum accuracy required for object detection)\n",
        "\n",
        "!./darknet detector test /content/drive/MyDrive/yolo_custom_model_Training3/custom_data/labelled_data.data /content/drive/MyDrive/yolo_custom_model_Training3/darknet/cfg/yolov4_custom.cfg /content/drive/MyDrive/yolo_custom_model_Training3/backup/yolov4_custom_final.weights /content/drive/MyDrive/yolo_custom_model_Training3/testing/kick4.jpg -thresh 0.3\n",
        "imShow('predictions.jpg')"
      ],
      "execution_count": null,
      "outputs": []
    }
  ]
}